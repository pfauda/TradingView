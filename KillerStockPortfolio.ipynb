{
  "nbformat": 4,
  "nbformat_minor": 0,
  "metadata": {
    "colab": {
      "name": "KillerStockPortfolio.ipynb",
      "provenance": [],
      "collapsed_sections": [],
      "authorship_tag": "ABX9TyPq88wharLdXXJgTH5U731p",
      "include_colab_link": true
    },
    "kernelspec": {
      "name": "python3",
      "display_name": "Python 3"
    }
  },
  "cells": [
    {
      "cell_type": "markdown",
      "metadata": {
        "id": "view-in-github",
        "colab_type": "text"
      },
      "source": [
        "<a href=\"https://colab.research.google.com/github/pfauda/python/blob/gh-pages/KillerStockPortfolio.ipynb\" target=\"_parent\"><img src=\"https://colab.research.google.com/assets/colab-badge.svg\" alt=\"Open In Colab\"/></a>"
      ]
    },
    {
      "cell_type": "code",
      "metadata": {
        "id": "c97FjFyUvglb"
      },
      "source": [
        "# Optimizador de portfolio de activos"
      ],
      "execution_count": 1,
      "outputs": []
    },
    {
      "cell_type": "code",
      "metadata": {
        "id": "a5MFwhJFfBUa"
      },
      "source": [
        "# Instalación de librerias"
      ],
      "execution_count": 2,
      "outputs": []
    },
    {
      "cell_type": "code",
      "metadata": {
        "colab": {
          "base_uri": "https://localhost:8080/"
        },
        "id": "CsYr8tbd1Quc",
        "outputId": "93067976-8081-47bb-8854-7f4fd7453745"
      },
      "source": [
        "!pip install yfinance"
      ],
      "execution_count": 20,
      "outputs": [
        {
          "output_type": "stream",
          "text": [
            "Requirement already satisfied: yfinance in /usr/local/lib/python3.6/dist-packages (0.1.55)\n",
            "Requirement already satisfied: lxml>=4.5.1 in /usr/local/lib/python3.6/dist-packages (from yfinance) (4.6.2)\n",
            "Requirement already satisfied: multitasking>=0.0.7 in /usr/local/lib/python3.6/dist-packages (from yfinance) (0.0.9)\n",
            "Requirement already satisfied: requests>=2.20 in /usr/local/lib/python3.6/dist-packages (from yfinance) (2.23.0)\n",
            "Requirement already satisfied: pandas>=0.24 in /usr/local/lib/python3.6/dist-packages (from yfinance) (1.1.5)\n",
            "Requirement already satisfied: numpy>=1.15 in /usr/local/lib/python3.6/dist-packages (from yfinance) (1.19.4)\n",
            "Requirement already satisfied: certifi>=2017.4.17 in /usr/local/lib/python3.6/dist-packages (from requests>=2.20->yfinance) (2020.12.5)\n",
            "Requirement already satisfied: urllib3!=1.25.0,!=1.25.1,<1.26,>=1.21.1 in /usr/local/lib/python3.6/dist-packages (from requests>=2.20->yfinance) (1.24.3)\n",
            "Requirement already satisfied: chardet<4,>=3.0.2 in /usr/local/lib/python3.6/dist-packages (from requests>=2.20->yfinance) (3.0.4)\n",
            "Requirement already satisfied: idna<3,>=2.5 in /usr/local/lib/python3.6/dist-packages (from requests>=2.20->yfinance) (2.10)\n",
            "Requirement already satisfied: python-dateutil>=2.7.3 in /usr/local/lib/python3.6/dist-packages (from pandas>=0.24->yfinance) (2.8.1)\n",
            "Requirement already satisfied: pytz>=2017.2 in /usr/local/lib/python3.6/dist-packages (from pandas>=0.24->yfinance) (2018.9)\n",
            "Requirement already satisfied: six>=1.5 in /usr/local/lib/python3.6/dist-packages (from python-dateutil>=2.7.3->pandas>=0.24->yfinance) (1.15.0)\n"
          ],
          "name": "stdout"
        }
      ]
    },
    {
      "cell_type": "code",
      "metadata": {
        "colab": {
          "base_uri": "https://localhost:8080/"
        },
        "id": "IkFhakEdfLD1",
        "outputId": "236879a0-fa75-457f-fc08-c34fb3b77ade"
      },
      "source": [
        "!pip install PyPortfolioOpt"
      ],
      "execution_count": 21,
      "outputs": [
        {
          "output_type": "stream",
          "text": [
            "Requirement already satisfied: PyPortfolioOpt in /usr/local/lib/python3.6/dist-packages (1.2.7)\n",
            "Requirement already satisfied: numpy<2.0,>=1.12 in /usr/local/lib/python3.6/dist-packages (from PyPortfolioOpt) (1.19.4)\n",
            "Requirement already satisfied: cvxpy<2.0,>=1.0 in /usr/local/lib/python3.6/dist-packages (from PyPortfolioOpt) (1.0.31)\n",
            "Requirement already satisfied: scipy<2.0,>=1.3 in /usr/local/lib/python3.6/dist-packages (from PyPortfolioOpt) (1.4.1)\n",
            "Requirement already satisfied: pandas>=0.19 in /usr/local/lib/python3.6/dist-packages (from PyPortfolioOpt) (1.1.5)\n",
            "Requirement already satisfied: cvxopt<2.0,>=1.2 in /usr/local/lib/python3.6/dist-packages (from PyPortfolioOpt) (1.2.5)\n",
            "Requirement already satisfied: osqp>=0.4.1 in /usr/local/lib/python3.6/dist-packages (from cvxpy<2.0,>=1.0->PyPortfolioOpt) (0.6.1)\n",
            "Requirement already satisfied: ecos>=2 in /usr/local/lib/python3.6/dist-packages (from cvxpy<2.0,>=1.0->PyPortfolioOpt) (2.0.7.post1)\n",
            "Requirement already satisfied: multiprocess in /usr/local/lib/python3.6/dist-packages (from cvxpy<2.0,>=1.0->PyPortfolioOpt) (0.70.11.1)\n",
            "Requirement already satisfied: scs>=1.1.3 in /usr/local/lib/python3.6/dist-packages (from cvxpy<2.0,>=1.0->PyPortfolioOpt) (2.1.2)\n",
            "Requirement already satisfied: pytz>=2017.2 in /usr/local/lib/python3.6/dist-packages (from pandas>=0.19->PyPortfolioOpt) (2018.9)\n",
            "Requirement already satisfied: python-dateutil>=2.7.3 in /usr/local/lib/python3.6/dist-packages (from pandas>=0.19->PyPortfolioOpt) (2.8.1)\n",
            "Requirement already satisfied: future in /usr/local/lib/python3.6/dist-packages (from osqp>=0.4.1->cvxpy<2.0,>=1.0->PyPortfolioOpt) (0.16.0)\n",
            "Requirement already satisfied: dill>=0.3.3 in /usr/local/lib/python3.6/dist-packages (from multiprocess->cvxpy<2.0,>=1.0->PyPortfolioOpt) (0.3.3)\n",
            "Requirement already satisfied: six>=1.5 in /usr/local/lib/python3.6/dist-packages (from python-dateutil>=2.7.3->pandas>=0.19->PyPortfolioOpt) (1.15.0)\n"
          ],
          "name": "stdout"
        }
      ]
    },
    {
      "cell_type": "code",
      "metadata": {
        "colab": {
          "base_uri": "https://localhost:8080/"
        },
        "id": "unF-ZQrfkkbQ",
        "outputId": "47aa5bdf-a37c-40c4-95e2-768cb167c10b"
      },
      "source": [
        "!pip install pulp"
      ],
      "execution_count": 22,
      "outputs": [
        {
          "output_type": "stream",
          "text": [
            "Requirement already satisfied: pulp in /usr/local/lib/python3.6/dist-packages (2.4)\n",
            "Requirement already satisfied: amply>=0.1.2 in /usr/local/lib/python3.6/dist-packages (from pulp) (0.1.4)\n",
            "Requirement already satisfied: pyparsing in /usr/local/lib/python3.6/dist-packages (from amply>=0.1.2->pulp) (2.4.7)\n",
            "Requirement already satisfied: docutils>=0.3 in /usr/local/lib/python3.6/dist-packages (from amply>=0.1.2->pulp) (0.16)\n"
          ],
          "name": "stdout"
        }
      ]
    },
    {
      "cell_type": "code",
      "metadata": {
        "id": "Yat9mP0bvuto"
      },
      "source": [
        "# Importar las librerias de python\r\n",
        "import pandas as pd\r\n",
        "import numpy as np\r\n",
        "import requests\r\n",
        "import matplotlib.pyplot as plt"
      ],
      "execution_count": 6,
      "outputs": []
    },
    {
      "cell_type": "code",
      "metadata": {
        "colab": {
          "base_uri": "https://localhost:8080/",
          "height": 582
        },
        "id": "TChDvdeYwIeS",
        "outputId": "c9f1d62f-7d65-476a-93a3-53bd8730cfca"
      },
      "source": [
        "# Cargar datos historicos\r\n",
        "import yfinance as yf\r\n",
        "import datetime as dt\r\n",
        "#tickers = ['BABA', 'GOLD', 'BBD', 'VIST']\r\n",
        "tickers = ['BABA', 'GOLD', 'BBD', 'VIST', 'CEPU.BA', 'TRAN.BA', 'CELU.BA', 'CECO2.BA', 'INVJ.BA']\r\n",
        "df = pd.DataFrame()\r\n",
        "for stock in tickers:\r\n",
        "  data = yf.download(stock, start=\"2015-01-01\", end=dt.date.today().strftime(\"%Y-%m-%d\"))\r\n",
        "  data.rename(columns={\"Close\": stock}, inplace=True)\r\n",
        "  data.drop([\"Open\", \"High\", \"Low\", \"Adj Close\", \"Volume\"], axis=1, inplace=True)\r\n",
        "  df = df.merge(data, right_index=True, left_index=True, how=\"outer\")\r\n",
        "df.dropna()"
      ],
      "execution_count": 7,
      "outputs": [
        {
          "output_type": "stream",
          "text": [
            "[*********************100%***********************]  1 of 1 completed\n",
            "[*********************100%***********************]  1 of 1 completed\n",
            "[*********************100%***********************]  1 of 1 completed\n",
            "[*********************100%***********************]  1 of 1 completed\n",
            "[*********************100%***********************]  1 of 1 completed\n",
            "[*********************100%***********************]  1 of 1 completed\n",
            "[*********************100%***********************]  1 of 1 completed\n",
            "[*********************100%***********************]  1 of 1 completed\n",
            "[*********************100%***********************]  1 of 1 completed\n"
          ],
          "name": "stdout"
        },
        {
          "output_type": "execute_result",
          "data": {
            "text/html": [
              "<div>\n",
              "<style scoped>\n",
              "    .dataframe tbody tr th:only-of-type {\n",
              "        vertical-align: middle;\n",
              "    }\n",
              "\n",
              "    .dataframe tbody tr th {\n",
              "        vertical-align: top;\n",
              "    }\n",
              "\n",
              "    .dataframe thead th {\n",
              "        text-align: right;\n",
              "    }\n",
              "</style>\n",
              "<table border=\"1\" class=\"dataframe\">\n",
              "  <thead>\n",
              "    <tr style=\"text-align: right;\">\n",
              "      <th></th>\n",
              "      <th>BABA</th>\n",
              "      <th>GOLD</th>\n",
              "      <th>BBD</th>\n",
              "      <th>VIST</th>\n",
              "      <th>CEPU.BA</th>\n",
              "      <th>TRAN.BA</th>\n",
              "      <th>CELU.BA</th>\n",
              "      <th>CECO2.BA</th>\n",
              "      <th>INVJ.BA</th>\n",
              "    </tr>\n",
              "    <tr>\n",
              "      <th>Date</th>\n",
              "      <th></th>\n",
              "      <th></th>\n",
              "      <th></th>\n",
              "      <th></th>\n",
              "      <th></th>\n",
              "      <th></th>\n",
              "      <th></th>\n",
              "      <th></th>\n",
              "      <th></th>\n",
              "    </tr>\n",
              "  </thead>\n",
              "  <tbody>\n",
              "    <tr>\n",
              "      <th>2019-07-26</th>\n",
              "      <td>178.740005</td>\n",
              "      <td>17.059999</td>\n",
              "      <td>9.60</td>\n",
              "      <td>9.100</td>\n",
              "      <td>39.500000</td>\n",
              "      <td>45.849998</td>\n",
              "      <td>30.000000</td>\n",
              "      <td>10.50</td>\n",
              "      <td>9.100000</td>\n",
              "    </tr>\n",
              "    <tr>\n",
              "      <th>2019-07-29</th>\n",
              "      <td>177.020004</td>\n",
              "      <td>17.209999</td>\n",
              "      <td>9.54</td>\n",
              "      <td>10.000</td>\n",
              "      <td>40.099998</td>\n",
              "      <td>46.099998</td>\n",
              "      <td>30.500000</td>\n",
              "      <td>10.65</td>\n",
              "      <td>9.250000</td>\n",
              "    </tr>\n",
              "    <tr>\n",
              "      <th>2019-07-30</th>\n",
              "      <td>174.100006</td>\n",
              "      <td>17.010000</td>\n",
              "      <td>9.28</td>\n",
              "      <td>10.100</td>\n",
              "      <td>39.799999</td>\n",
              "      <td>46.450001</td>\n",
              "      <td>30.500000</td>\n",
              "      <td>10.75</td>\n",
              "      <td>10.000000</td>\n",
              "    </tr>\n",
              "    <tr>\n",
              "      <th>2019-07-31</th>\n",
              "      <td>173.110001</td>\n",
              "      <td>16.260000</td>\n",
              "      <td>9.04</td>\n",
              "      <td>10.020</td>\n",
              "      <td>40.450001</td>\n",
              "      <td>46.549999</td>\n",
              "      <td>29.799999</td>\n",
              "      <td>10.55</td>\n",
              "      <td>10.350000</td>\n",
              "    </tr>\n",
              "    <tr>\n",
              "      <th>2019-08-01</th>\n",
              "      <td>165.649994</td>\n",
              "      <td>16.950001</td>\n",
              "      <td>8.88</td>\n",
              "      <td>9.400</td>\n",
              "      <td>40.099998</td>\n",
              "      <td>45.650002</td>\n",
              "      <td>29.799999</td>\n",
              "      <td>10.80</td>\n",
              "      <td>10.150000</td>\n",
              "    </tr>\n",
              "    <tr>\n",
              "      <th>...</th>\n",
              "      <td>...</td>\n",
              "      <td>...</td>\n",
              "      <td>...</td>\n",
              "      <td>...</td>\n",
              "      <td>...</td>\n",
              "      <td>...</td>\n",
              "      <td>...</td>\n",
              "      <td>...</td>\n",
              "      <td>...</td>\n",
              "    </tr>\n",
              "    <tr>\n",
              "      <th>2020-12-22</th>\n",
              "      <td>255.830002</td>\n",
              "      <td>22.520000</td>\n",
              "      <td>5.23</td>\n",
              "      <td>2.710</td>\n",
              "      <td>36.200001</td>\n",
              "      <td>26.450001</td>\n",
              "      <td>21.150000</td>\n",
              "      <td>15.95</td>\n",
              "      <td>16.250000</td>\n",
              "    </tr>\n",
              "    <tr>\n",
              "      <th>2020-12-23</th>\n",
              "      <td>256.179993</td>\n",
              "      <td>22.830000</td>\n",
              "      <td>5.33</td>\n",
              "      <td>2.750</td>\n",
              "      <td>37.500000</td>\n",
              "      <td>26.650000</td>\n",
              "      <td>20.799999</td>\n",
              "      <td>15.80</td>\n",
              "      <td>16.650000</td>\n",
              "    </tr>\n",
              "    <tr>\n",
              "      <th>2020-12-28</th>\n",
              "      <td>222.360001</td>\n",
              "      <td>22.840000</td>\n",
              "      <td>5.31</td>\n",
              "      <td>2.590</td>\n",
              "      <td>36.200001</td>\n",
              "      <td>26.500000</td>\n",
              "      <td>21.000000</td>\n",
              "      <td>15.15</td>\n",
              "      <td>16.700001</td>\n",
              "    </tr>\n",
              "    <tr>\n",
              "      <th>2020-12-29</th>\n",
              "      <td>236.259995</td>\n",
              "      <td>22.910000</td>\n",
              "      <td>5.27</td>\n",
              "      <td>2.640</td>\n",
              "      <td>36.150002</td>\n",
              "      <td>28.400000</td>\n",
              "      <td>20.299999</td>\n",
              "      <td>15.45</td>\n",
              "      <td>16.900000</td>\n",
              "    </tr>\n",
              "    <tr>\n",
              "      <th>2020-12-30</th>\n",
              "      <td>238.389999</td>\n",
              "      <td>23.240000</td>\n",
              "      <td>5.27</td>\n",
              "      <td>2.555</td>\n",
              "      <td>35.900002</td>\n",
              "      <td>29.250000</td>\n",
              "      <td>21.100000</td>\n",
              "      <td>15.20</td>\n",
              "      <td>16.700001</td>\n",
              "    </tr>\n",
              "  </tbody>\n",
              "</table>\n",
              "<p>341 rows × 9 columns</p>\n",
              "</div>"
            ],
            "text/plain": [
              "                  BABA       GOLD   BBD  ...    CELU.BA  CECO2.BA    INVJ.BA\n",
              "Date                                     ...                                \n",
              "2019-07-26  178.740005  17.059999  9.60  ...  30.000000     10.50   9.100000\n",
              "2019-07-29  177.020004  17.209999  9.54  ...  30.500000     10.65   9.250000\n",
              "2019-07-30  174.100006  17.010000  9.28  ...  30.500000     10.75  10.000000\n",
              "2019-07-31  173.110001  16.260000  9.04  ...  29.799999     10.55  10.350000\n",
              "2019-08-01  165.649994  16.950001  8.88  ...  29.799999     10.80  10.150000\n",
              "...                ...        ...   ...  ...        ...       ...        ...\n",
              "2020-12-22  255.830002  22.520000  5.23  ...  21.150000     15.95  16.250000\n",
              "2020-12-23  256.179993  22.830000  5.33  ...  20.799999     15.80  16.650000\n",
              "2020-12-28  222.360001  22.840000  5.31  ...  21.000000     15.15  16.700001\n",
              "2020-12-29  236.259995  22.910000  5.27  ...  20.299999     15.45  16.900000\n",
              "2020-12-30  238.389999  23.240000  5.27  ...  21.100000     15.20  16.700001\n",
              "\n",
              "[341 rows x 9 columns]"
            ]
          },
          "metadata": {
            "tags": []
          },
          "execution_count": 7
        }
      ]
    },
    {
      "cell_type": "code",
      "metadata": {
        "id": "BaYWgKqg5yGJ"
      },
      "source": [
        "# Importar las librerias de optimización de portfolio\r\n",
        "from pypfopt.efficient_frontier import EfficientFrontier\r\n",
        "from pypfopt import risk_models\r\n",
        "from pypfopt import expected_returns "
      ],
      "execution_count": 8,
      "outputs": []
    },
    {
      "cell_type": "code",
      "metadata": {
        "id": "3fGg29336vgL"
      },
      "source": [
        "# Calcular los retornos anualizados y la matriz de covarianza anualizada de los retornos diarios de los activos\r\n",
        "mu = expected_returns.mean_historical_return(df)\r\n",
        "S = risk_models.sample_cov(df, returns_data=False)"
      ],
      "execution_count": 9,
      "outputs": []
    },
    {
      "cell_type": "code",
      "metadata": {
        "id": "8M-_hF-17hjK"
      },
      "source": [
        "# Optimizar para el maximo ratio de retorno\r\n",
        "ef = EfficientFrontier(mu, S)\r\n",
        "weights = ef.max_sharpe()"
      ],
      "execution_count": 10,
      "outputs": []
    },
    {
      "cell_type": "code",
      "metadata": {
        "colab": {
          "base_uri": "https://localhost:8080/"
        },
        "id": "vnzOgMCqg7HP",
        "outputId": "a5aa2717-d42f-4c07-e044-3c0a453bf957"
      },
      "source": [
        "cleaned_weights = ef.clean_weights()\r\n",
        "print(cleaned_weights)\r\n",
        "ef.portfolio_performance(verbose=True)"
      ],
      "execution_count": 11,
      "outputs": [
        {
          "output_type": "stream",
          "text": [
            "OrderedDict([('BABA', 0.2284), ('GOLD', 0.13837), ('BBD', 0.0), ('VIST', 0.0), ('CEPU.BA', 0.02533), ('TRAN.BA', 0.24487), ('CELU.BA', 0.06231), ('CECO2.BA', 0.0871), ('INVJ.BA', 0.21363)])\n",
            "Expected annual return: 26.8%\n",
            "Annual volatility: 28.2%\n",
            "Sharpe Ratio: 0.88\n"
          ],
          "name": "stdout"
        },
        {
          "output_type": "execute_result",
          "data": {
            "text/plain": [
              "(0.2678405969845238, 0.28183681940157007, 0.8793762202921849)"
            ]
          },
          "metadata": {
            "tags": []
          },
          "execution_count": 11
        }
      ]
    },
    {
      "cell_type": "code",
      "metadata": {
        "colab": {
          "base_uri": "https://localhost:8080/",
          "height": 287
        },
        "id": "jmUFX87T2q4B",
        "outputId": "34e55271-3a2a-486c-9b52-e4287b392144"
      },
      "source": [
        "plt.bar(range(len(cleaned_weights)), list(cleaned_weights.values()), align='center')\r\n",
        "plt.xticks(range(len(cleaned_weights)), list(cleaned_weights.keys()))\r\n",
        "plt.rcParams['figure.figsize'] = [5, 3]\r\n",
        "plt.rcParams['figure.dpi'] = 100 # 200 e.g. is really fine, but slower\r\n",
        "plt.show()"
      ],
      "execution_count": 35,
      "outputs": [
        {
          "output_type": "display_data",
          "data": {
            "image/png": "[encoded data removed]",
            "text/plain": [
              "<Figure size 1000x300 with 1 Axes>"
            ]
          },
          "metadata": {
            "tags": [],
            "needs_background": "light"
          }
        }
      ]
    },
    {
      "cell_type": "code",
      "metadata": {
        "colab": {
          "base_uri": "https://localhost:8080/"
        },
        "id": "p1A2h68xjbbu",
        "outputId": "d22567f4-f2a8-4a8a-e8df-a55f2bf665c0"
      },
      "source": [
        "# Obtener las colocaciones discretas para cada acción de cada activo\r\n",
        "from pypfopt.discrete_allocation import DiscreteAllocation, get_latest_prices\r\n",
        "\r\n",
        "portfolio_val = 5000\r\n",
        "latest_prices = get_latest_prices(df)\r\n",
        "weights = cleaned_weights\r\n",
        "da = DiscreteAllocation(weights, latest_prices, total_portfolio_value = portfolio_val)\r\n",
        "allocation, leftover = da.lp_portfolio()\r\n",
        "print(\"Papeles: \", allocation)\r\n",
        "print(\"Fondos remanentes $:\", leftover)"
      ],
      "execution_count": 13,
      "outputs": [
        {
          "output_type": "stream",
          "text": [
            "Papeles:  {'BABA': 5, 'GOLD': 30, 'BBD': 1, 'CEPU.BA': 3, 'TRAN.BA': 42, 'CELU.BA': 15, 'CECO2.BA': 28, 'INVJ.BA': 64}\n",
            "Fondos remanentes $: 0.5899467468261719\n"
          ],
          "name": "stdout"
        }
      ]
    },
    {
      "cell_type": "code",
      "metadata": {
        "id": "NWz6GolpmnbZ"
      },
      "source": [
        "# Crear una función para obtener los nombres de las companias\r\n",
        "def get_company_name(symbol):\r\n",
        "  url = \"http://d.yimg.com/autoc.finance.yahoo.com/autoc?query=\"+symbol+\"&region=1&lang=es\"\r\n",
        "  result = requests.get(url).json()\r\n",
        "  for r in result[\"ResultSet\"][\"Result\"]:\r\n",
        "    if r[\"symbol\"] == symbol:\r\n",
        "      return r[\"name\"]"
      ],
      "execution_count": 14,
      "outputs": []
    },
    {
      "cell_type": "code",
      "metadata": {
        "id": "iMUPQ92qp19K"
      },
      "source": [
        "# Guardar el nombre de la compania en una lista\r\n",
        "company_name = []\r\n",
        "for symbol in allocation:\r\n",
        "  company_name.append(get_company_name(symbol))"
      ],
      "execution_count": 15,
      "outputs": []
    },
    {
      "cell_type": "code",
      "metadata": {
        "id": "ZZP8QEX9qMkf"
      },
      "source": [
        "# Obtener los valores de las colocaciones\r\n",
        "discrete_allocation_list = []\r\n",
        "for symbol in allocation:\r\n",
        "  discrete_allocation_list.append(allocation.get(symbol))"
      ],
      "execution_count": 16,
      "outputs": []
    },
    {
      "cell_type": "code",
      "metadata": {
        "id": "Xs8YqfLQqQeW"
      },
      "source": [
        "# Crear el dataframe para el portfolio\r\n",
        "portfolio_df = pd.DataFrame(columns=[\"Nombre\", \"Ticker\", \"Acciones\"+str(portfolio_val)])"
      ],
      "execution_count": 17,
      "outputs": []
    },
    {
      "cell_type": "code",
      "metadata": {
        "id": "0uTKhUeTrDBs"
      },
      "source": [
        "portfolio_df[\"Nombre\"] = company_name\r\n",
        "portfolio_df[\"Ticker\"] = allocation\r\n",
        "portfolio_df[\"Acciones\"+str(portfolio_val)] = discrete_allocation_list"
      ],
      "execution_count": 18,
      "outputs": []
    },
    {
      "cell_type": "code",
      "metadata": {
        "colab": {
          "base_uri": "https://localhost:8080/",
          "height": 284
        },
        "id": "NqmZpPC8soOt",
        "outputId": "4d5b4d6b-fb80-4dab-c78b-bdac9e4759cd"
      },
      "source": [
        "portfolio_df"
      ],
      "execution_count": 19,
      "outputs": [
        {
          "output_type": "execute_result",
          "data": {
            "text/html": [
              "<div>\n",
              "<style scoped>\n",
              "    .dataframe tbody tr th:only-of-type {\n",
              "        vertical-align: middle;\n",
              "    }\n",
              "\n",
              "    .dataframe tbody tr th {\n",
              "        vertical-align: top;\n",
              "    }\n",
              "\n",
              "    .dataframe thead th {\n",
              "        text-align: right;\n",
              "    }\n",
              "</style>\n",
              "<table border=\"1\" class=\"dataframe\">\n",
              "  <thead>\n",
              "    <tr style=\"text-align: right;\">\n",
              "      <th></th>\n",
              "      <th>Nombre</th>\n",
              "      <th>Ticker</th>\n",
              "      <th>Acciones5000</th>\n",
              "    </tr>\n",
              "  </thead>\n",
              "  <tbody>\n",
              "    <tr>\n",
              "      <th>0</th>\n",
              "      <td>Alibaba Group Holding Limited</td>\n",
              "      <td>BABA</td>\n",
              "      <td>5</td>\n",
              "    </tr>\n",
              "    <tr>\n",
              "      <th>1</th>\n",
              "      <td>Barrick Gold Corporation</td>\n",
              "      <td>GOLD</td>\n",
              "      <td>30</td>\n",
              "    </tr>\n",
              "    <tr>\n",
              "      <th>2</th>\n",
              "      <td>Banco Bradesco S.A.</td>\n",
              "      <td>BBD</td>\n",
              "      <td>1</td>\n",
              "    </tr>\n",
              "    <tr>\n",
              "      <th>3</th>\n",
              "      <td>Central Puerto S.A.</td>\n",
              "      <td>CEPU.BA</td>\n",
              "      <td>3</td>\n",
              "    </tr>\n",
              "    <tr>\n",
              "      <th>4</th>\n",
              "      <td>Compañía de Transporte de Energía Eléctrica en...</td>\n",
              "      <td>TRAN.BA</td>\n",
              "      <td>42</td>\n",
              "    </tr>\n",
              "    <tr>\n",
              "      <th>5</th>\n",
              "      <td>Celulosa Argentina S.A.</td>\n",
              "      <td>CELU.BA</td>\n",
              "      <td>15</td>\n",
              "    </tr>\n",
              "    <tr>\n",
              "      <th>6</th>\n",
              "      <td>Enel Generación Costanera S.A.</td>\n",
              "      <td>CECO2.BA</td>\n",
              "      <td>28</td>\n",
              "    </tr>\n",
              "    <tr>\n",
              "      <th>7</th>\n",
              "      <td>Inversora Juramento S.A.</td>\n",
              "      <td>INVJ.BA</td>\n",
              "      <td>64</td>\n",
              "    </tr>\n",
              "  </tbody>\n",
              "</table>\n",
              "</div>"
            ],
            "text/plain": [
              "                                              Nombre    Ticker  Acciones5000\n",
              "0                      Alibaba Group Holding Limited      BABA             5\n",
              "1                           Barrick Gold Corporation      GOLD            30\n",
              "2                                Banco Bradesco S.A.       BBD             1\n",
              "3                                Central Puerto S.A.   CEPU.BA             3\n",
              "4  Compañía de Transporte de Energía Eléctrica en...   TRAN.BA            42\n",
              "5                            Celulosa Argentina S.A.   CELU.BA            15\n",
              "6                     Enel Generación Costanera S.A.  CECO2.BA            28\n",
              "7                           Inversora Juramento S.A.   INVJ.BA            64"
            ]
          },
          "metadata": {
            "tags": []
          },
          "execution_count": 19
        }
      ]
    },
    {
      "cell_type": "code",
      "metadata": {
        "id": "n8IAU8t2srqV"
      },
      "source": [
        "\r\n",
        "\r\n",
        "\r\n",
        "\r\n"
      ],
      "execution_count": 19,
      "outputs": []
    }
  ]
}