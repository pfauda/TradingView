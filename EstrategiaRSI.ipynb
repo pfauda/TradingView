{
  "nbformat": 4,
  "nbformat_minor": 0,
  "metadata": {
    "colab": {
      "name": "EstrategiaRSI.ipynb",
      "provenance": [],
      "collapsed_sections": [],
      "authorship_tag": "ABX9TyN5PYDHEy+4nsy5Yv32UGKb",
      "include_colab_link": true
    },
    "kernelspec": {
      "name": "python3",
      "display_name": "Python 3"
    }
  },
  "cells": [
    {
      "cell_type": "markdown",
      "metadata": {
        "id": "view-in-github",
        "colab_type": "text"
      },
      "source": [
        "<a href=\"https://colab.research.google.com/github/pfauda/python/blob/gh-pages/EstrategiaRSI.ipynb\" target=\"_parent\"><img src=\"https://colab.research.google.com/assets/colab-badge.svg\" alt=\"Open In Colab\"/></a>"
      ]
    },
    {
      "cell_type": "code",
      "metadata": {
        "id": "azvioS5WXS1o"
      },
      "source": [
        "# Estrategia RSI con activos de alta volatilidad"
      ],
      "execution_count": 1,
      "outputs": []
    },
    {
      "cell_type": "code",
      "metadata": {
        "colab": {
          "base_uri": "https://localhost:8080/"
        },
        "id": "ekam1rJeXqsj",
        "outputId": "509f7826-13f6-4582-e529-618f7c87dd5a"
      },
      "source": [
        "!pip install yfinance\r\n",
        "!pip install mplfinance"
      ],
      "execution_count": 2,
      "outputs": [
        {
          "output_type": "stream",
          "text": [
            "Collecting yfinance\n",
            "  Downloading https://files.pythonhosted.org/packages/7a/e8/b9d7104d3a4bf39924799067592d9e59119fcfc900a425a12e80a3123ec8/yfinance-0.1.55.tar.gz\n",
            "Requirement already satisfied: pandas>=0.24 in /usr/local/lib/python3.6/dist-packages (from yfinance) (1.1.5)\n",
            "Requirement already satisfied: numpy>=1.15 in /usr/local/lib/python3.6/dist-packages (from yfinance) (1.19.4)\n",
            "Requirement already satisfied: requests>=2.20 in /usr/local/lib/python3.6/dist-packages (from yfinance) (2.23.0)\n",
            "Requirement already satisfied: multitasking>=0.0.7 in /usr/local/lib/python3.6/dist-packages (from yfinance) (0.0.9)\n",
            "Collecting lxml>=4.5.1\n",
            "\u001b[?25l  Downloading https://files.pythonhosted.org/packages/bd/78/56a7c88a57d0d14945472535d0df9fb4bbad7d34ede658ec7961635c790e/lxml-4.6.2-cp36-cp36m-manylinux1_x86_64.whl (5.5MB)\n",
            "\u001b[K     |████████████████████████████████| 5.5MB 11.9MB/s \n",
            "\u001b[?25hRequirement already satisfied: pytz>=2017.2 in /usr/local/lib/python3.6/dist-packages (from pandas>=0.24->yfinance) (2018.9)\n",
            "Requirement already satisfied: python-dateutil>=2.7.3 in /usr/local/lib/python3.6/dist-packages (from pandas>=0.24->yfinance) (2.8.1)\n",
            "Requirement already satisfied: urllib3!=1.25.0,!=1.25.1,<1.26,>=1.21.1 in /usr/local/lib/python3.6/dist-packages (from requests>=2.20->yfinance) (1.24.3)\n",
            "Requirement already satisfied: idna<3,>=2.5 in /usr/local/lib/python3.6/dist-packages (from requests>=2.20->yfinance) (2.10)\n",
            "Requirement already satisfied: chardet<4,>=3.0.2 in /usr/local/lib/python3.6/dist-packages (from requests>=2.20->yfinance) (3.0.4)\n",
            "Requirement already satisfied: certifi>=2017.4.17 in /usr/local/lib/python3.6/dist-packages (from requests>=2.20->yfinance) (2020.12.5)\n",
            "Requirement already satisfied: six>=1.5 in /usr/local/lib/python3.6/dist-packages (from python-dateutil>=2.7.3->pandas>=0.24->yfinance) (1.15.0)\n",
            "Building wheels for collected packages: yfinance\n",
            "  Building wheel for yfinance (setup.py) ... \u001b[?25l\u001b[?25hdone\n",
            "  Created wheel for yfinance: filename=yfinance-0.1.55-py2.py3-none-any.whl size=22616 sha256=423ad1a364660f2edd4ae2cb1ca28f246ff337f6c71e07d1d5bae79ac2549510\n",
            "  Stored in directory: /root/.cache/pip/wheels/04/98/cc/2702a4242d60bdc14f48b4557c427ded1fe92aedf257d4565c\n",
            "Successfully built yfinance\n",
            "Installing collected packages: lxml, yfinance\n",
            "  Found existing installation: lxml 4.2.6\n",
            "    Uninstalling lxml-4.2.6:\n",
            "      Successfully uninstalled lxml-4.2.6\n",
            "Successfully installed lxml-4.6.2 yfinance-0.1.55\n",
            "Collecting mplfinance\n",
            "\u001b[?25l  Downloading https://files.pythonhosted.org/packages/94/c5/9ea8d953d3e90ff7419ba72789ed42c2ca173160c799caf36e144ed90258/mplfinance-0.12.7a4-py3-none-any.whl (55kB)\n",
            "\u001b[K     |████████████████████████████████| 61kB 5.4MB/s \n",
            "\u001b[?25hRequirement already satisfied: pandas in /usr/local/lib/python3.6/dist-packages (from mplfinance) (1.1.5)\n",
            "Requirement already satisfied: matplotlib in /usr/local/lib/python3.6/dist-packages (from mplfinance) (3.2.2)\n",
            "Requirement already satisfied: pytz>=2017.2 in /usr/local/lib/python3.6/dist-packages (from pandas->mplfinance) (2018.9)\n",
            "Requirement already satisfied: python-dateutil>=2.7.3 in /usr/local/lib/python3.6/dist-packages (from pandas->mplfinance) (2.8.1)\n",
            "Requirement already satisfied: numpy>=1.15.4 in /usr/local/lib/python3.6/dist-packages (from pandas->mplfinance) (1.19.4)\n",
            "Requirement already satisfied: pyparsing!=2.0.4,!=2.1.2,!=2.1.6,>=2.0.1 in /usr/local/lib/python3.6/dist-packages (from matplotlib->mplfinance) (2.4.7)\n",
            "Requirement already satisfied: cycler>=0.10 in /usr/local/lib/python3.6/dist-packages (from matplotlib->mplfinance) (0.10.0)\n",
            "Requirement already satisfied: kiwisolver>=1.0.1 in /usr/local/lib/python3.6/dist-packages (from matplotlib->mplfinance) (1.3.1)\n",
            "Requirement already satisfied: six>=1.5 in /usr/local/lib/python3.6/dist-packages (from python-dateutil>=2.7.3->pandas->mplfinance) (1.15.0)\n",
            "Installing collected packages: mplfinance\n",
            "Successfully installed mplfinance-0.12.7a4\n"
          ],
          "name": "stdout"
        }
      ]
    },
    {
      "cell_type": "code",
      "metadata": {
        "id": "yQOdqpzYX-sk"
      },
      "source": [
        "# Importar librerias\r\n",
        "import numpy as np\r\n",
        "import pandas as pd\r\n",
        "import yfinance as yf\r\n",
        "import datetime as dt\r\n",
        "import copy\r\n",
        "import matplotlib.pyplot as plt\r\n",
        "from matplotlib.dates import date2num\r\n",
        "from mplfinance.original_flavor import candlestick_ohlc\r\n",
        "import datetime"
      ],
      "execution_count": 3,
      "outputs": []
    },
    {
      "cell_type": "code",
      "metadata": {
        "colab": {
          "base_uri": "https://localhost:8080/"
        },
        "id": "pdSTe-HJYIr_",
        "outputId": "9ca11158-94a2-4bdb-de9d-637d1f915883"
      },
      "source": [
        "# Inicializaciones\r\n",
        "tickers = [\"GGAL\", \"BMA\", \"SUPV\", \"BBAR\"]\r\n",
        "#tickers = [\"GGAL\"]\r\n",
        "precios = {} # diccionario para guardar los datos\r\n",
        "\r\n",
        "# Importación de datos\r\n",
        "for i in range(len(tickers)):\r\n",
        "    precios[tickers[i]] = yf.download(tickers[i], start=\"2000-01-01\") #[\"Adj Close\"].to_frame()"
      ],
      "execution_count": 4,
      "outputs": [
        {
          "output_type": "stream",
          "text": [
            "[*********************100%***********************]  1 of 1 completed\n",
            "[*********************100%***********************]  1 of 1 completed\n",
            "[*********************100%***********************]  1 of 1 completed\n",
            "[*********************100%***********************]  1 of 1 completed\n"
          ],
          "name": "stdout"
        }
      ]
    },
    {
      "cell_type": "code",
      "metadata": {
        "id": "r5O45g2xoEAQ"
      },
      "source": [
        "def calc_rsi(ohlc: pd.DataFrame, period: int = 14, source: str = 'Close') -> pd.Series:\r\n",
        "    \"\"\"See source https://github.com/peerchemist/finta\r\n",
        "    and fix https://www.tradingview.com/wiki/Talk:Relative_Strength_Index_(RSI)\r\n",
        "    Relative Strength Index (RSI) is a momentum oscillator that measures the speed and change of price movements.\r\n",
        "    RSI oscillates between zero and 100. Traditionally, and according to Wilder, RSI is considered overbought when above 70 and oversold when below 30.\r\n",
        "    Signals can also be generated by looking for divergences, failure swings and centerline crossovers.\r\n",
        "    RSI can also be used to identify the general trend.\"\"\"\r\n",
        "\r\n",
        "    delta = ohlc[source].diff()\r\n",
        "\r\n",
        "    up, down = delta.copy(), delta.copy()\r\n",
        "    up[up < 0] = 0\r\n",
        "    down[down > 0] = 0\r\n",
        "\r\n",
        "    gain = up.ewm(com=(period - 1), min_periods=period).mean()\r\n",
        "    loss = down.abs().ewm(com=(period - 1), min_periods=period).mean()\r\n",
        "\r\n",
        "    RS = gain / loss\r\n",
        "    return pd.Series(100 - (100 / (1 + RS)), name=\"RSI\")"
      ],
      "execution_count": 5,
      "outputs": []
    },
    {
      "cell_type": "code",
      "metadata": {
        "colab": {
          "base_uri": "https://localhost:8080/"
        },
        "id": "XRj6VtgtaJxy",
        "outputId": "62c9d8e5-da0f-4421-8ecd-ed0c6a09d01c"
      },
      "source": [
        "# Cálculo RSI\r\n",
        "price_dict = copy.deepcopy(precios)\r\n",
        "for ticker in tickers:\r\n",
        "    print(\"Calculando RSI de\", ticker)\r\n",
        "    price_dict[ticker][\"RSI\"] = calc_rsi(price_dict[ticker], 14, 'Close')\r\n",
        "    price_dict[ticker].dropna(inplace=True)"
      ],
      "execution_count": 6,
      "outputs": [
        {
          "output_type": "stream",
          "text": [
            "Calculando RSI de GGAL\n",
            "Calculando RSI de BMA\n",
            "Calculando RSI de SUPV\n",
            "Calculando RSI de BBAR\n"
          ],
          "name": "stdout"
        }
      ]
    },
    {
      "cell_type": "code",
      "metadata": {
        "id": "vn2EsTARafmB"
      },
      "source": [
        "def plot_chart(data, n, ticker, sobreVenta, sobreCompra):\r\n",
        "    \r\n",
        "    # Filter number of observations to plot\r\n",
        "    data = data.iloc[-n:]\r\n",
        "    \r\n",
        "    # Create figure and set axes for subplots\r\n",
        "    fig = plt.figure()\r\n",
        "    fig.set_size_inches((18, 7))\r\n",
        "    #ax_candle = fig.add_axes((0, 0.72, 1, 0.32))\r\n",
        "    ##ax_macd  = fig.add_axes((0, 0.48, 1, 0.2), sharex=ax_candle)\r\n",
        "    #ax_rsi    = fig.add_axes((0, 0.24, 1, 0.2), sharex=ax_candle)\r\n",
        "    #ax_vol    = fig.add_axes((0, 0, 1, 0.2), sharex=ax_candle)\r\n",
        "    ax_candle = fig.add_axes((0, 1.00, 1, 0.50))\r\n",
        "    ax_rsi    = fig.add_axes((0, 0.75, 1, 0.20), sharex=ax_candle)\r\n",
        "    ax_vol    = fig.add_axes((0, 0.50, 1, 0.20), sharex=ax_candle)\r\n",
        "    \r\n",
        "    # Format x-axis ticks as dates\r\n",
        "    ax_candle.xaxis_date()\r\n",
        "    \r\n",
        "    # Get nested list of date, open, high, low and close prices\r\n",
        "    ohlc = []\r\n",
        "    for date, row in data.iterrows():\r\n",
        "        openp, highp, lowp, closep = row[:4]\r\n",
        "        ohlc.append([date2num(date), openp, highp, lowp, closep])\r\n",
        " \r\n",
        "    ## Plot candlestick chart\r\n",
        "    #ax_candle.plot(data.index, data[\"ma10\"], label=\"MA10\")\r\n",
        "    #ax_candle.plot(data.index, data[\"ma30\"], label=\"MA30\")\r\n",
        "    candlestick_ohlc(ax_candle, ohlc, colorup=\"g\", colordown=\"r\", width=0.8)\r\n",
        "    #ax_candle.legend()\r\n",
        "    \r\n",
        "    ## Plot MACD\r\n",
        "    #ax_macd.plot(data.index, data[\"macd\"], label=\"macd\")\r\n",
        "    #ax_macd.bar(data.index, data[\"macd_hist\"] * 3, label=\"hist\")\r\n",
        "    #ax_macd.plot(data.index, data[\"macd_signal\"], label=\"signal\")\r\n",
        "    #ax_macd.legend()\r\n",
        "    \r\n",
        "    # Plot RSI\r\n",
        "    # Above 70% = overbought, below 30% = oversold\r\n",
        "    ax_rsi.set_ylabel(\"(%)\")\r\n",
        "    ax_rsi.plot(data.index, [sobreCompra] * len(data.index), label=\"S.Compra\")\r\n",
        "    ax_rsi.plot(data.index, [sobreVenta] * len(data.index), label=\"S.Venta\")\r\n",
        "    ax_rsi.plot(data.index, data[\"RSI\"], label=\"RSI\")\r\n",
        "    ax_rsi.legend()\r\n",
        "    \r\n",
        "    # Show volume in millions\r\n",
        "    ax_vol.bar(data.index, data[\"Volume\"] / 1000000)\r\n",
        "    ax_vol.set_ylabel(\"(En millones)\")\r\n",
        "   \r\n",
        "    # Save the chart as PNG\r\n",
        "    #fig.savefig(\"charts/\" + ticker + \".png\", bbox_inches=\"tight\")\r\n",
        "    \r\n",
        "    plt.show()"
      ],
      "execution_count": 7,
      "outputs": []
    },
    {
      "cell_type": "code",
      "metadata": {
        "id": "DRvSz8gbcN1V"
      },
      "source": [
        "#plot_chart(price_dict[ticker], 7000, ticker, 20, 40)"
      ],
      "execution_count": 8,
      "outputs": []
    },
    {
      "cell_type": "code",
      "metadata": {
        "id": "UNKQPHpB-Sxk"
      },
      "source": [
        "class Strategy:\r\n",
        "\r\n",
        "  def __init__(self, data, capital, source):\r\n",
        "    self.data = data\r\n",
        "    self.capital = capital\r\n",
        "    self.source = source\r\n",
        "    self.date_buy = data.index[0]\r\n",
        "    self.date_close = data.index[0]\r\n",
        "    self.days = 0\r\n",
        "    self.profit_abs = 0\r\n",
        "    self.profit_prc = 0\r\n",
        "    self.cum_profit_abs = 0\r\n",
        "    self.cum_profit_prc = 0\r\n",
        "\r\n",
        "    self.trades = pd.DataFrame(columns = ['date_buy', 'date_close', 'days', \r\n",
        "                                          'price_buy', 'price_close', 'shares',\r\n",
        "                                          'profit_abs', 'profit_prc',\r\n",
        "                                          'cum_profit_abs', 'cum_profit_prc'])\r\n",
        "    self.entry_id = \"\"\r\n",
        "    #self.balance = []\r\n",
        "    #self.summary = pd.DataFrame(columns = [\"ret\", \"ret_cum\", \"max\", \"drowdown\"])\r\n",
        "    self.len = len(data) - 1\r\n",
        "    self.entry_candle = 0\r\n",
        "\r\n",
        "  #def compute_tick(self, i):\r\n",
        "  #  if self.entry_id == \"\":\r\n",
        "  #    self.balance.append(0)\r\n",
        "  #  else:\r\n",
        "  #    self.balance.append((self.data['Close'][self.entry_candle]/self.data[self.source][i-1])-1)\r\n",
        "\r\n",
        "  def entry(self, entry_id, i):\r\n",
        "    if self.entry_id != entry_id:\r\n",
        "      if i < self.len:\r\n",
        "        self.entry_candle = i\r\n",
        "        self.entry_id = entry_id\r\n",
        "        self.date_buy = self.data.index[i+1]\r\n",
        "        # Para comprar se toma el precio de cierre del dia anterior\r\n",
        "        self.shares_old = int( ( self.capital + self.cum_profit_abs ) / self.data['Close'][i] )\r\n",
        "\r\n",
        "  def close_all(self, i):\r\n",
        "    if self.entry_id != \"\":\r\n",
        "      if i < self.len:\r\n",
        "        self.entry_id = \"\"\r\n",
        "        self.date_close = self.data.index[i+1]\r\n",
        "        self.days = (self.date_close - self.date_buy).days\r\n",
        "        # Para el calculo de la ganancia tomar el precio de apertura de la estrategia del dia siguiente\r\n",
        "        self.profit_abs = self.shares_old * ( self.data['Open'][i+1] - self.data['Open'][self.entry_candle+1] )\r\n",
        "        self.profit_prc = (self.data['Open'][i+1] / self.data['Open'][self.entry_candle+1] - 1)\r\n",
        "        self.cum_profit_abs += self.profit_abs\r\n",
        "        self.cum_profit_prc += self.profit_prc\r\n",
        "        self.trades = self.trades.append({'date_buy': self.date_buy,\r\n",
        "                                          'date_close': self.date_close,\r\n",
        "                                          'days': self.days,\r\n",
        "                                          'price_buy': self.data['Open'][self.entry_candle+1],\r\n",
        "                                          'price_close': self.data['Open'][i+1],\r\n",
        "                                          'shares': self.shares_old,\r\n",
        "                                          'profit_abs': self.profit_abs,\r\n",
        "                                          'profit_prc': self.profit_prc,\r\n",
        "                                          'cum_profit_abs': self.cum_profit_abs,\r\n",
        "                                          'cum_profit_prc': self.cum_profit_prc},\r\n",
        "                                          ignore_index=True)\r\n",
        "        self.shares_old = 0\r\n",
        "        self.entry_candle = 0\r\n",
        "\r\n",
        "  def end(self, i):\r\n",
        "    self.close_all(i)\r\n",
        "\r\n",
        "  def print_report(self):\r\n",
        "    if len(self.trades) > 0:\r\n",
        "      pd.set_option(\"display.max_rows\", None, \"display.max_columns\", 200)\r\n",
        "      print('\\nTrades realizados')\r\n",
        "      print('-------------------------------------------------------------------------')\r\n",
        "      print(self.trades)\r\n",
        "      print('-------------------------------------------------------------------------')\r\n",
        "      print(\"\\nGanancia acumulada\")\r\n",
        "      print(round(self.cum_profit_abs, 2))\r\n",
        "\r\n",
        "      print(f'\\nLa ganancia promedio es de {round(self.trades[\"profit_prc\"].mean()*100, 2)}%')\r\n",
        "      print(f'La desviación estandar del resultado es de {round(self.trades[\"profit_prc\"].std()*100, 2)}%')\r\n",
        "      print(f'La duración promedio es de {round(self.trades[\"days\"].mean(), 2)} días')\r\n",
        "      print(f'El {round((len(self.trades[self.trades[\"profit_prc\"]>0])/len(self.trades))*100, 2)}% de las veces se sale con ganancias')\r\n",
        "      print(f'El {round((len(self.trades[self.trades[\"profit_prc\"]<=0])/len(self.trades))*100, 2)}% de las veces se sale con perdidas')\r\n",
        "      print(f'El peor resultado al cierre fue de {round(self.trades[\"profit_prc\"].min()*100, 2)}%')\r\n",
        "      print(f'El mejor resultado al cierre fue de {round(self.trades[\"profit_prc\"].max()*100, 2)}%')\r\n",
        "\r\n",
        "      #self.summary[\"ret\"] = np.array(self.balance)\r\n",
        "      #self.summary[\"ret_cum\"] = (1+self.summary[\"ret\"]).cumprod()\r\n",
        "\r\n",
        "      #print(\"\\nbajas durante la estrategia\")\r\n",
        "      #self.summary[\"max\"] = self.summary[\"ret_cum\"].cummax()\r\n",
        "      #self.summary[\"drowdown\"] = self.summary[\"ret_cum\"] / self.summary[\"max\"] -1\r\n",
        "      #print(f'baja máxima de {round(self.summary[\"drowdown\"].min()*100, 2)}%')\r\n",
        "\r\n",
        "    # RSI Actuales\r\n",
        "    print(\"\\nRSI actuales\")\r\n",
        "    print(round(self.data[\"RSI\"][-1], 2))\r\n",
        "\r\n",
        "  def get_result(self) -> float:\r\n",
        "    return self.cum_profit_abs"
      ],
      "execution_count": 9,
      "outputs": []
    },
    {
      "cell_type": "code",
      "metadata": {
        "id": "-lTxe324HKZr"
      },
      "source": [
        "def calc_strategy_rsi(data, sobreVenta, sobreCompra, source) -> float:\r\n",
        "\r\n",
        "  strategy = Strategy(data, 100000, source)\r\n",
        "\r\n",
        "  for i in range(len(data)):\r\n",
        "    #strategy.compute_tick(i)\r\n",
        "    if data[\"RSI\"][i]<sobreVenta:\r\n",
        "        strategy.entry(\"Compra\", i)\r\n",
        "    if data[\"RSI\"][i]>=sobreCompra:\r\n",
        "        strategy.close_all(i)\r\n",
        "  \r\n",
        "  strategy.end(i)\r\n",
        "  #strategy.print_report()\r\n",
        "  ganancia = strategy.get_result()\r\n",
        "  del strategy\r\n",
        "\r\n",
        "  return ganancia"
      ],
      "execution_count": 10,
      "outputs": []
    },
    {
      "cell_type": "code",
      "metadata": {
        "id": "dNZGceI6j2fi"
      },
      "source": [
        "  #result = calc_strategy_rsi(price_dict[ticker], 23, 85, \"Close\")\r\n",
        "  #print(sv_max, sc_max, result_max)"
      ],
      "execution_count": 11,
      "outputs": []
    },
    {
      "cell_type": "code",
      "metadata": {
        "colab": {
          "base_uri": "https://localhost:8080/"
        },
        "id": "78DdfgIK9uoP",
        "outputId": "2843c173-cf37-418d-ca2b-f3bdda3544f9"
      },
      "source": [
        "for ticker in tickers:\r\n",
        "  result = 0\r\n",
        "  sc_max = 0\r\n",
        "  sv_max = 0\r\n",
        "  result_max = 0\r\n",
        "  print(\"\\nCalculando estrategia para \",ticker)\r\n",
        "  for sv in range(5, 45):\r\n",
        "    for sc in range(55, 95):\r\n",
        "      result = calc_strategy_rsi(price_dict[ticker], sv, sc, \"Close\")\r\n",
        "      if result > result_max:\r\n",
        "        result_max = result\r\n",
        "        sc_max = sc\r\n",
        "        sv_max = sv\r\n",
        "  print(sv_max, sc_max, result_max)"
      ],
      "execution_count": 12,
      "outputs": [
        {
          "output_type": "stream",
          "text": [
            "\n",
            "Calculando estrategia para  GGAL\n",
            "23 85 1204693.3097128868\n",
            "\n",
            "Calculando estrategia para  BMA\n",
            "26 84 524282.0716381073\n",
            "\n",
            "Calculando estrategia para  SUPV\n",
            "17 76 199252.62387561798\n",
            "\n",
            "Calculando estrategia para  BBAR\n",
            "32 84 229101.53616285324\n"
          ],
          "name": "stdout"
        }
      ]
    },
    {
      "cell_type": "code",
      "metadata": {
        "id": "VWCzgOHiZOVD"
      },
      "source": [
        ""
      ],
      "execution_count": 12,
      "outputs": []
    }
  ]
}